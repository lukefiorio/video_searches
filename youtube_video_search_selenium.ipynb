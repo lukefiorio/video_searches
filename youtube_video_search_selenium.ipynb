{
 "cells": [
  {
   "cell_type": "markdown",
   "metadata": {},
   "source": [
    "## Automating Web Tasks with selenium\n",
    "### YouTube videos\n",
    "\n",
    "In this notebook, we loop through a list of terms to input in YouTube's search bar, opening a new Chrome tab for each one, and then play the top search result for each."
   ]
  },
  {
   "cell_type": "markdown",
   "metadata": {},
   "source": [
    "Install `selenium` and `chromedriver-binary`, if necessary."
   ]
  },
  {
   "cell_type": "code",
   "execution_count": 1,
   "metadata": {},
   "outputs": [],
   "source": [
    "# %pip install selenium\n",
    "# %pip install chromedriver-binary"
   ]
  },
  {
   "cell_type": "markdown",
   "metadata": {},
   "source": [
    "Import packages"
   ]
  },
  {
   "cell_type": "code",
   "execution_count": 2,
   "metadata": {},
   "outputs": [],
   "source": [
    "from selenium import webdriver\n",
    "from selenium.webdriver.common.keys import Keys\n",
    "import chromedriver_binary  # Add chromedriver binary to path\n",
    "import sys"
   ]
  },
  {
   "cell_type": "markdown",
   "metadata": {},
   "source": [
    "We start by initializing our webdriver (using Chrome) and setting the `implicitly_wait()` property to 10 seconds.  This is to give time for page loads, when necessary (commands will execute as fast as they are able).\n",
    "\n",
    "Not used in this notebook, but we also designate whether to use the `control` key or `command` key, based on the user's OS (to make the code OS-agnostic)."
   ]
  },
  {
   "cell_type": "code",
   "execution_count": 3,
   "metadata": {},
   "outputs": [],
   "source": [
    "driver = webdriver.Chrome()\n",
    "driver.implicitly_wait(10) # wait up to 10 seconds\n",
    "ctrl_cmd_key = Keys.COMMAND if sys.platform=='darwin' else Keys.CONTROL"
   ]
  },
  {
   "cell_type": "markdown",
   "metadata": {},
   "source": [
    "We'll specify the YouTube website, the xpath to the search bar, and a list of search terms that we will loop through later on."
   ]
  },
  {
   "cell_type": "code",
   "execution_count": 4,
   "metadata": {},
   "outputs": [],
   "source": [
    "url = 'https://youtube.com'\n",
    "search_bar_xpath = '/html/body/ytd-app/div/div/ytd-masthead/div[3]/div[2]/ytd-searchbox/form/div/div[1]/input'\n",
    "search_terms = ['cat videos', 'puppy videos', 'sports bloopers']"
   ]
  },
  {
   "cell_type": "markdown",
   "metadata": {},
   "source": [
    "Next, we define a function to open a new tab, activate the tab, and conduct a search.  We store the video search results in a list and click one to play based on the `search_rank` paramter."
   ]
  },
  {
   "cell_type": "code",
   "execution_count": 5,
   "metadata": {},
   "outputs": [],
   "source": [
    "def youtube_search(search_term, search_rank):\n",
    "    \n",
    "    # open a new tab to the specified url, then activate to it\n",
    "    driver.execute_script(\"window.open('\" + url + \"');\")\n",
    "    driver.switch_to.window(driver.window_handles[-1])\n",
    "\n",
    "    # find the search bar, click, type search, and submit\n",
    "    search_bar = driver.find_element_by_xpath(search_bar_xpath)\n",
    "    search_bar.click()\n",
    "    search_bar.send_keys(search_term)\n",
    "    search_bar.send_keys(Keys.RETURN) # .submit() also works\n",
    "    \n",
    "    # grab video search results\n",
    "    video_results = driver.find_elements_by_class_name(\"style-scope ytd-video-renderer\")\n",
    "    video_result = video_results[search_rank - 1]\n",
    "    \n",
    "    # click to play video\n",
    "    video_result.click()"
   ]
  },
  {
   "cell_type": "markdown",
   "metadata": {},
   "source": [
    "Now we'll call our function within a loop, iterating through each search tearm in our original list and starting each video."
   ]
  },
  {
   "cell_type": "code",
   "execution_count": 6,
   "metadata": {},
   "outputs": [],
   "source": [
    "# loop through each search term and click the first video\n",
    "for term in search_terms:\n",
    "    youtube_search(term, 1)"
   ]
  }
 ],
 "metadata": {
  "kernelspec": {
   "display_name": "Python 3",
   "language": "python",
   "name": "python3"
  },
  "language_info": {
   "codemirror_mode": {
    "name": "ipython",
    "version": 3
   },
   "file_extension": ".py",
   "mimetype": "text/x-python",
   "name": "python",
   "nbconvert_exporter": "python",
   "pygments_lexer": "ipython3",
   "version": "3.6.10"
  }
 },
 "nbformat": 4,
 "nbformat_minor": 4
}
